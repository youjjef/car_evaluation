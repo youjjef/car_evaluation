{
  "nbformat": 4,
  "nbformat_minor": 0,
  "metadata": {
    "colab": {
      "provenance": [],
      "gpuType": "T4"
    },
    "kernelspec": {
      "name": "python3",
      "display_name": "Python 3"
    },
    "language_info": {
      "name": "python"
    },
    "accelerator": "GPU"
  },
  "cells": [
    {
      "cell_type": "code",
      "execution_count": 8,
      "metadata": {
        "id": "lUTKgiHle2jM"
      },
      "outputs": [],
      "source": [
        "#IMPORTS\n",
        "from sklearn import datasets\n",
        "import numpy as np\n",
        "import matplotlib.pyplot as plt\n",
        "from sklearn.model_selection import train_test_split\n",
        "from sklearn import metrics,neighbors,svm\n",
        "from sklearn.preprocessing import LabelEncoder\n",
        "import pandas as pd"
      ]
    },
    {
      "cell_type": "code",
      "source": [
        "\n",
        "data=pd.read_csv('car.data')\n",
        "data.columns = ['Buying', 'maint', 'doors', 'persons', 'lug_boots', 'safety', 'condition']\n",
        "\n",
        "print(data.head())\n"
      ],
      "metadata": {
        "colab": {
          "base_uri": "https://localhost:8080/"
        },
        "id": "6gaBFj4QfCs_",
        "outputId": "aef3f149-8559-4b4d-c3c1-c683933c8ed9"
      },
      "execution_count": 9,
      "outputs": [
        {
          "output_type": "stream",
          "name": "stdout",
          "text": [
            "  Buying  maint doors persons lug_boots safety condition\n",
            "0  vhigh  vhigh     2       2     small    med     unacc\n",
            "1  vhigh  vhigh     2       2     small   high     unacc\n",
            "2  vhigh  vhigh     2       2       med    low     unacc\n",
            "3  vhigh  vhigh     2       2       med    med     unacc\n",
            "4  vhigh  vhigh     2       2       med   high     unacc\n"
          ]
        }
      ]
    },
    {
      "cell_type": "code",
      "source": [
        "#data preprocessing\n",
        "x=data[['Buying','maint','doors','persons','lug_boots','safety']].values\n",
        "y=data[['condition']]\n",
        "le=LabelEncoder()\n",
        "for i in range(len(x[0])):\n",
        "    x[:,i]=le.fit_transform(x[:,i])\n",
        "print(x)\n",
        "\n",
        "maping={'unacc':0,'acc':1,'good':2,'vgood':3}\n",
        "y['condition']=y['condition'].map(maping)\n",
        "y=np.array(y)\n",
        "print(y)"
      ],
      "metadata": {
        "colab": {
          "base_uri": "https://localhost:8080/"
        },
        "id": "3QWKZ99q5Ab6",
        "outputId": "b0c32cde-5254-400d-ee2c-b48c16a491df"
      },
      "execution_count": 14,
      "outputs": [
        {
          "output_type": "stream",
          "name": "stdout",
          "text": [
            "[[3 3 0 0 2 2]\n",
            " [3 3 0 0 2 0]\n",
            " [3 3 0 0 1 1]\n",
            " ...\n",
            " [1 1 3 2 0 1]\n",
            " [1 1 3 2 0 2]\n",
            " [1 1 3 2 0 0]]\n",
            "[[0]\n",
            " [0]\n",
            " [0]\n",
            " ...\n",
            " [0]\n",
            " [2]\n",
            " [3]]\n"
          ]
        },
        {
          "output_type": "stream",
          "name": "stderr",
          "text": [
            "<ipython-input-14-d38682404039>:9: SettingWithCopyWarning: \n",
            "A value is trying to be set on a copy of a slice from a DataFrame.\n",
            "Try using .loc[row_indexer,col_indexer] = value instead\n",
            "\n",
            "See the caveats in the documentation: https://pandas.pydata.org/pandas-docs/stable/user_guide/indexing.html#returning-a-view-versus-a-copy\n",
            "  y['condition']=y['condition'].map(maping)\n"
          ]
        }
      ]
    },
    {
      "cell_type": "code",
      "source": [
        "x_train, x_test, y_train, y_test = train_test_split(x, y, test_size=0.3)"
      ],
      "metadata": {
        "id": "p9K7ivBu1gj3"
      },
      "execution_count": 15,
      "outputs": []
    },
    {
      "cell_type": "code",
      "source": [
        "#KNN\n",
        "KNN=neighbors.KNeighborsClassifier(n_neighbors=10,weights='uniform')\n",
        "KNN.fit(x_train,y_train)\n",
        "prediction=KNN.predict(x_test)\n",
        "accuracy=metrics.accuracy_score(y_test,prediction)\n",
        "print(\"prediction: \",prediction)\n",
        "print(\"accuracy: \",accuracy*100,\"%\")\n"
      ],
      "metadata": {
        "colab": {
          "base_uri": "https://localhost:8080/"
        },
        "id": "nlRBjiKeITj6",
        "outputId": "87f0ab16-fbf3-49c1-8ece-aedd5cc56f46"
      },
      "execution_count": 16,
      "outputs": [
        {
          "output_type": "stream",
          "name": "stdout",
          "text": [
            "prediction:  [0 0 0 1 1 0 0 0 0 0 0 0 1 0 0 1 0 0 0 3 0 0 0 0 0 0 2 0 0 1 0 0 0 0 0 0 0\n",
            " 1 0 0 0 0 3 0 0 0 0 0 0 0 0 0 0 0 0 0 1 0 1 0 0 0 0 0 0 0 1 0 0 0 1 0 0 0\n",
            " 0 0 0 0 1 1 1 0 0 0 1 0 0 0 0 1 0 1 0 0 0 0 0 0 1 0 0 0 1 0 0 0 0 0 0 0 3\n",
            " 0 0 0 0 0 0 0 0 0 0 0 0 0 0 0 0 0 0 0 0 0 0 0 0 1 1 0 0 1 1 0 0 0 0 1 0 0\n",
            " 0 0 0 0 0 0 1 0 0 0 0 0 0 1 0 0 1 0 0 0 0 1 1 0 1 1 0 0 0 1 0 0 0 1 3 3 0\n",
            " 0 0 0 0 0 0 0 0 0 1 0 1 1 1 0 0 0 0 0 0 0 0 1 0 0 0 0 1 0 1 1 0 0 0 0 0 0\n",
            " 0 0 2 0 0 0 0 0 0 0 0 0 0 0 0 0 2 0 0 0 0 0 0 0 0 0 0 0 0 0 0 0 3 1 0 1 0\n",
            " 0 0 0 0 0 0 1 0 0 0 0 0 0 0 1 0 0 0 0 0 0 0 0 0 0 0 0 1 0 0 0 0 0 0 0 1 0\n",
            " 1 0 0 0 0 0 0 1 0 0 0 0 0 0 1 0 0 0 2 1 0 0 0 0 0 1 1 0 0 1 0 0 0 0 1 0 0\n",
            " 0 0 0 0 0 0 0 0 0 0 0 0 0 1 0 0 2 0 0 1 0 1 0 1 1 0 0 0 1 0 0 0 0 3 1 0 0\n",
            " 0 0 0 0 1 0 1 0 0 0 0 0 0 0 0 0 0 0 0 0 3 1 1 0 0 0 0 0 0 0 0 0 0 0 0 0 0\n",
            " 0 0 3 0 0 0 0 1 0 0 0 0 0 0 0 0 1 0 1 0 0 1 0 1 1 0 3 0 0 1 0 0 0 0 0 0 0\n",
            " 0 0 0 1 1 0 0 0 0 0 0 0 0 3 0 0 0 0 0 0 0 0 0 0 0 0 0 1 0 0 0 1 0 0 1 1 1\n",
            " 0 0 2 0 0 0 0 1 2 0 0 0 0 0 0 0 0 0 1 0 0 0 1 1 0 0 1 0 1 0 0 0 0 0 0 0 0\n",
            " 0]\n",
            "accuracy:  86.51252408477842 %\n"
          ]
        },
        {
          "output_type": "stream",
          "name": "stderr",
          "text": [
            "/usr/local/lib/python3.10/dist-packages/sklearn/neighbors/_classification.py:239: DataConversionWarning: A column-vector y was passed when a 1d array was expected. Please change the shape of y to (n_samples,), for example using ravel().\n",
            "  return self._fit(X, y)\n"
          ]
        }
      ]
    },
    {
      "cell_type": "code",
      "source": [
        "#SVM\n",
        "SVM=svm.SVC()\n",
        "SVM.fit(x_train,y_train)\n",
        "prediction=SVM.predict(x_test)\n",
        "accuracy=metrics.accuracy_score(y_test,prediction)\n",
        "print(\"prediction: \",prediction)\n",
        "print(\"accuracy: \",accuracy*100,\"%\")"
      ],
      "metadata": {
        "colab": {
          "base_uri": "https://localhost:8080/"
        },
        "id": "QQ8Vaqi1e0qJ",
        "outputId": "126f5c6e-683c-434a-f7d1-c0a152764ccf"
      },
      "execution_count": 17,
      "outputs": [
        {
          "output_type": "stream",
          "name": "stdout",
          "text": [
            "prediction:  [0 0 0 1 1 0 0 0 0 0 1 0 0 1 0 1 1 1 0 3 0 1 0 0 0 0 1 0 0 1 0 0 0 0 0 1 0\n",
            " 1 0 0 0 0 3 0 0 1 0 0 0 0 0 0 0 0 0 0 1 0 1 0 0 0 0 0 0 0 3 0 0 0 0 0 1 0\n",
            " 0 0 0 0 0 0 1 0 0 1 1 0 0 0 3 1 0 1 0 0 0 0 0 0 0 0 1 0 1 0 0 0 0 0 0 0 3\n",
            " 0 0 0 0 0 0 0 0 0 0 0 0 0 0 0 0 1 0 0 0 0 0 0 0 1 1 1 1 1 1 0 0 1 0 1 0 0\n",
            " 0 1 0 0 0 0 1 0 0 0 0 0 0 0 1 0 1 0 0 1 0 1 1 0 3 1 0 0 0 1 0 1 0 1 3 3 0\n",
            " 1 0 0 0 0 0 0 0 0 1 0 1 1 1 0 0 0 0 0 1 0 0 1 0 0 0 0 1 0 1 1 0 0 0 0 0 0\n",
            " 0 0 1 0 0 0 0 0 0 0 0 0 0 0 0 0 3 0 0 0 0 0 0 0 0 0 0 0 0 0 1 0 3 1 0 1 0\n",
            " 0 0 0 0 1 0 1 0 0 0 0 1 0 0 0 0 0 0 0 0 0 0 0 0 0 0 0 1 0 0 0 0 0 1 0 3 0\n",
            " 1 0 0 0 0 0 0 1 0 0 0 0 0 0 1 0 0 1 2 1 0 0 1 0 0 1 1 1 0 1 0 0 0 0 1 0 1\n",
            " 0 0 0 0 0 0 0 0 0 0 0 0 1 1 1 0 0 0 0 1 0 1 0 1 0 1 0 1 1 0 0 0 1 3 1 0 0\n",
            " 0 0 1 0 1 0 1 0 0 0 0 0 0 0 0 0 0 0 0 0 3 1 3 0 0 0 0 0 1 1 0 0 0 0 0 0 0\n",
            " 0 0 3 0 0 0 0 3 0 1 0 0 0 0 0 0 1 0 1 0 0 1 0 3 1 1 3 0 0 1 0 0 0 0 0 0 0\n",
            " 0 0 0 0 3 1 0 0 1 0 0 0 0 3 0 0 0 0 1 0 0 1 0 0 0 0 0 1 0 0 0 1 0 0 1 2 0\n",
            " 0 0 2 0 1 0 0 1 1 0 0 0 1 1 1 1 0 0 1 0 0 0 1 1 0 3 1 0 1 0 1 0 0 0 0 0 0\n",
            " 0]\n",
            "accuracy:  88.6319845857418 %\n"
          ]
        },
        {
          "output_type": "stream",
          "name": "stderr",
          "text": [
            "/usr/local/lib/python3.10/dist-packages/sklearn/utils/validation.py:1408: DataConversionWarning: A column-vector y was passed when a 1d array was expected. Please change the shape of y to (n_samples, ), for example using ravel().\n",
            "  y = column_or_1d(y, warn=True)\n"
          ]
        }
      ]
    }
  ]
}